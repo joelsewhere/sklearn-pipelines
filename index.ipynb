{
 "cells": [
  {
   "cell_type": "markdown",
   "metadata": {
    "index": 0,
    "solution": false
   },
   "source": [
    "# Creating a Custom Sklearn Pipeline\n",
    "> How to include custom data preprocessing steps in an sklearn pipeline. \n",
    "\n",
    "In this notebook we will import the [income classification dataset](https://www.kaggle.com/lodetomasi1995/income-classification/data), review common preprocessing steps, and then introduce how those steps can be included in an sklearn pipeline. \n",
    "\n",
    "![](https://media.giphy.com/media/Jwp4sxM0Rjk1W/giphy.gif)"
   ]
  },
  {
   "cell_type": "code",
   "execution_count": 1,
   "metadata": {
    "ExecuteTime": {
     "end_time": "2021-11-17T17:32:06.658706Z",
     "start_time": "2021-11-17T17:32:05.304477Z"
    },
    "code_folding": []
   },
   "outputs": [],
   "source": [
    "# Standard Imports\n",
    "import pandas as pd\n",
    "import numpy as np\n",
    "\n",
    "# Transformers\n",
    "from sklearn.preprocessing import OneHotEncoder, StandardScaler\n",
    "\n",
    "# Modeling Evaluation\n",
    "from sklearn.model_selection import train_test_split, cross_val_score\n",
    "from sklearn.metrics import accuracy_score\n",
    "\n",
    "# Pipelines\n",
    "from sklearn.base import BaseEstimator, TransformerMixin\n",
    "from sklearn.compose import make_column_selector, make_column_transformer\n",
    "from sklearn.pipeline import make_pipeline\n",
    "import pickle\n",
    "\n",
    "# Machine Learning\n",
    "from sklearn.tree import DecisionTreeClassifier\n",
    "from sklearn.ensemble import RandomForestClassifier"
   ]
  },
  {
   "cell_type": "code",
   "execution_count": 2,
   "metadata": {
    "ExecuteTime": {
     "end_time": "2021-11-17T17:32:06.665472Z",
     "start_time": "2021-11-17T17:32:06.660973Z"
    }
   },
   "outputs": [],
   "source": [
    "# Standard Imports\n",
    "import pandas as pd\n",
    "import numpy as np\n",
    "\n",
    "# Transformers\n",
    "from sklearn.preprocessing import OneHotEncoder, StandardScaler\n",
    "\n",
    "# Modeling Evaluation\n",
    "from sklearn.model_selection import train_test_split, cross_val_score\n",
    "from sklearn.metrics import accuracy_score\n",
    "\n",
    "# Pipelines\n",
    "from sklearn.base import BaseEstimator, TransformerMixin\n",
    "from sklearn.compose import make_column_selector, make_column_transformer\n",
    "from sklearn.pipeline import make_pipeline\n",
    "import pickle\n",
    "\n",
    "# Machine Learning\n",
    "from sklearn.tree import DecisionTreeClassifier\n",
    "from sklearn.ensemble import RandomForestClassifier"
   ]
  },
  {
   "cell_type": "code",
   "execution_count": 3,
   "metadata": {
    "ExecuteTime": {
     "end_time": "2021-11-17T17:32:06.842478Z",
     "start_time": "2021-11-17T17:32:06.671476Z"
    }
   },
   "outputs": [
    {
     "data": {
      "text/html": [
       "<div>\n",
       "<style scoped>\n",
       "    .dataframe tbody tr th:only-of-type {\n",
       "        vertical-align: middle;\n",
       "    }\n",
       "\n",
       "    .dataframe tbody tr th {\n",
       "        vertical-align: top;\n",
       "    }\n",
       "\n",
       "    .dataframe thead th {\n",
       "        text-align: right;\n",
       "    }\n",
       "</style>\n",
       "<table border=\"1\" class=\"dataframe\">\n",
       "  <thead>\n",
       "    <tr style=\"text-align: right;\">\n",
       "      <th></th>\n",
       "      <th>age</th>\n",
       "      <th>workclass</th>\n",
       "      <th>fnlwgt</th>\n",
       "      <th>education</th>\n",
       "      <th>educational-num</th>\n",
       "      <th>marital-status</th>\n",
       "      <th>occupation</th>\n",
       "      <th>relationship</th>\n",
       "      <th>race</th>\n",
       "      <th>gender</th>\n",
       "      <th>capital-gain</th>\n",
       "      <th>capital-loss</th>\n",
       "      <th>hours-per-week</th>\n",
       "      <th>native-country</th>\n",
       "      <th>income</th>\n",
       "    </tr>\n",
       "  </thead>\n",
       "  <tbody>\n",
       "    <tr>\n",
       "      <th>0</th>\n",
       "      <td>53</td>\n",
       "      <td>Local-gov</td>\n",
       "      <td>283602</td>\n",
       "      <td>Masters</td>\n",
       "      <td>14</td>\n",
       "      <td>Married-civ-spouse</td>\n",
       "      <td>Prof-specialty</td>\n",
       "      <td>Wife</td>\n",
       "      <td>White</td>\n",
       "      <td>Female</td>\n",
       "      <td>15024</td>\n",
       "      <td>0</td>\n",
       "      <td>40</td>\n",
       "      <td>United-States</td>\n",
       "      <td>&gt;50K</td>\n",
       "    </tr>\n",
       "    <tr>\n",
       "      <th>1</th>\n",
       "      <td>28</td>\n",
       "      <td>Self-emp-not-inc</td>\n",
       "      <td>35864</td>\n",
       "      <td>Some-college</td>\n",
       "      <td>10</td>\n",
       "      <td>Married-civ-spouse</td>\n",
       "      <td>Exec-managerial</td>\n",
       "      <td>Husband</td>\n",
       "      <td>Other</td>\n",
       "      <td>Male</td>\n",
       "      <td>0</td>\n",
       "      <td>0</td>\n",
       "      <td>70</td>\n",
       "      <td>Iran</td>\n",
       "      <td>&gt;50K</td>\n",
       "    </tr>\n",
       "    <tr>\n",
       "      <th>2</th>\n",
       "      <td>29</td>\n",
       "      <td>Private</td>\n",
       "      <td>146764</td>\n",
       "      <td>Some-college</td>\n",
       "      <td>10</td>\n",
       "      <td>Divorced</td>\n",
       "      <td>Adm-clerical</td>\n",
       "      <td>Not-in-family</td>\n",
       "      <td>White</td>\n",
       "      <td>Female</td>\n",
       "      <td>0</td>\n",
       "      <td>0</td>\n",
       "      <td>35</td>\n",
       "      <td>United-States</td>\n",
       "      <td>&lt;=50K</td>\n",
       "    </tr>\n",
       "    <tr>\n",
       "      <th>3</th>\n",
       "      <td>49</td>\n",
       "      <td>Private</td>\n",
       "      <td>59380</td>\n",
       "      <td>Some-college</td>\n",
       "      <td>10</td>\n",
       "      <td>Married-spouse-absent</td>\n",
       "      <td>Adm-clerical</td>\n",
       "      <td>Not-in-family</td>\n",
       "      <td>White</td>\n",
       "      <td>Female</td>\n",
       "      <td>0</td>\n",
       "      <td>0</td>\n",
       "      <td>40</td>\n",
       "      <td>United-States</td>\n",
       "      <td>&lt;=50K</td>\n",
       "    </tr>\n",
       "    <tr>\n",
       "      <th>4</th>\n",
       "      <td>51</td>\n",
       "      <td>Self-emp-inc</td>\n",
       "      <td>338836</td>\n",
       "      <td>Some-college</td>\n",
       "      <td>10</td>\n",
       "      <td>Married-civ-spouse</td>\n",
       "      <td>Exec-managerial</td>\n",
       "      <td>Husband</td>\n",
       "      <td>White</td>\n",
       "      <td>Male</td>\n",
       "      <td>0</td>\n",
       "      <td>0</td>\n",
       "      <td>40</td>\n",
       "      <td>United-States</td>\n",
       "      <td>&gt;50K</td>\n",
       "    </tr>\n",
       "  </tbody>\n",
       "</table>\n",
       "</div>"
      ],
      "text/plain": [
       "   age         workclass  fnlwgt     education  educational-num  \\\n",
       "0   53         Local-gov  283602       Masters               14   \n",
       "1   28  Self-emp-not-inc   35864  Some-college               10   \n",
       "2   29           Private  146764  Some-college               10   \n",
       "3   49           Private   59380  Some-college               10   \n",
       "4   51      Self-emp-inc  338836  Some-college               10   \n",
       "\n",
       "          marital-status       occupation   relationship   race  gender  \\\n",
       "0     Married-civ-spouse   Prof-specialty           Wife  White  Female   \n",
       "1     Married-civ-spouse  Exec-managerial        Husband  Other    Male   \n",
       "2               Divorced     Adm-clerical  Not-in-family  White  Female   \n",
       "3  Married-spouse-absent     Adm-clerical  Not-in-family  White  Female   \n",
       "4     Married-civ-spouse  Exec-managerial        Husband  White    Male   \n",
       "\n",
       "   capital-gain  capital-loss  hours-per-week native-country income  \n",
       "0         15024             0              40  United-States   >50K  \n",
       "1             0             0              70           Iran   >50K  \n",
       "2             0             0              35  United-States  <=50K  \n",
       "3             0             0              40  United-States  <=50K  \n",
       "4             0             0              40  United-States   >50K  "
      ]
     },
     "execution_count": 3,
     "metadata": {},
     "output_type": "execute_result"
    }
   ],
   "source": [
    "df = pd.read_csv('data/train.csv')\n",
    "df.head()"
   ]
  },
  {
   "cell_type": "code",
   "execution_count": 4,
   "metadata": {
    "ExecuteTime": {
     "end_time": "2021-11-17T17:32:06.944566Z",
     "start_time": "2021-11-17T17:32:06.845798Z"
    }
   },
   "outputs": [
    {
     "data": {
      "text/html": [
       "<div>\n",
       "<style scoped>\n",
       "    .dataframe tbody tr th:only-of-type {\n",
       "        vertical-align: middle;\n",
       "    }\n",
       "\n",
       "    .dataframe tbody tr th {\n",
       "        vertical-align: top;\n",
       "    }\n",
       "\n",
       "    .dataframe thead th {\n",
       "        text-align: right;\n",
       "    }\n",
       "</style>\n",
       "<table border=\"1\" class=\"dataframe\">\n",
       "  <thead>\n",
       "    <tr style=\"text-align: right;\">\n",
       "      <th></th>\n",
       "      <th>age</th>\n",
       "      <th>workclass</th>\n",
       "      <th>fnlwgt</th>\n",
       "      <th>education</th>\n",
       "      <th>educational-num</th>\n",
       "      <th>marital-status</th>\n",
       "      <th>occupation</th>\n",
       "      <th>relationship</th>\n",
       "      <th>race</th>\n",
       "      <th>gender</th>\n",
       "      <th>capital-gain</th>\n",
       "      <th>capital-loss</th>\n",
       "      <th>hours-per-week</th>\n",
       "      <th>native-country</th>\n",
       "      <th>income</th>\n",
       "    </tr>\n",
       "  </thead>\n",
       "  <tbody>\n",
       "    <tr>\n",
       "      <th>0</th>\n",
       "      <td>53</td>\n",
       "      <td>Local-gov</td>\n",
       "      <td>283602</td>\n",
       "      <td>Masters</td>\n",
       "      <td>14</td>\n",
       "      <td>Married-civ-spouse</td>\n",
       "      <td>Prof-specialty</td>\n",
       "      <td>Wife</td>\n",
       "      <td>White</td>\n",
       "      <td>Female</td>\n",
       "      <td>15024</td>\n",
       "      <td>0</td>\n",
       "      <td>40</td>\n",
       "      <td>United-States</td>\n",
       "      <td>&gt;50K</td>\n",
       "    </tr>\n",
       "    <tr>\n",
       "      <th>1</th>\n",
       "      <td>28</td>\n",
       "      <td>Self-emp-not-inc</td>\n",
       "      <td>35864</td>\n",
       "      <td>Some-college</td>\n",
       "      <td>10</td>\n",
       "      <td>Married-civ-spouse</td>\n",
       "      <td>Exec-managerial</td>\n",
       "      <td>Husband</td>\n",
       "      <td>Other</td>\n",
       "      <td>Male</td>\n",
       "      <td>0</td>\n",
       "      <td>0</td>\n",
       "      <td>70</td>\n",
       "      <td>Iran</td>\n",
       "      <td>&gt;50K</td>\n",
       "    </tr>\n",
       "    <tr>\n",
       "      <th>2</th>\n",
       "      <td>29</td>\n",
       "      <td>Private</td>\n",
       "      <td>146764</td>\n",
       "      <td>Some-college</td>\n",
       "      <td>10</td>\n",
       "      <td>Divorced</td>\n",
       "      <td>Adm-clerical</td>\n",
       "      <td>Not-in-family</td>\n",
       "      <td>White</td>\n",
       "      <td>Female</td>\n",
       "      <td>0</td>\n",
       "      <td>0</td>\n",
       "      <td>35</td>\n",
       "      <td>United-States</td>\n",
       "      <td>&lt;=50K</td>\n",
       "    </tr>\n",
       "    <tr>\n",
       "      <th>3</th>\n",
       "      <td>49</td>\n",
       "      <td>Private</td>\n",
       "      <td>59380</td>\n",
       "      <td>Some-college</td>\n",
       "      <td>10</td>\n",
       "      <td>Married-spouse-absent</td>\n",
       "      <td>Adm-clerical</td>\n",
       "      <td>Not-in-family</td>\n",
       "      <td>White</td>\n",
       "      <td>Female</td>\n",
       "      <td>0</td>\n",
       "      <td>0</td>\n",
       "      <td>40</td>\n",
       "      <td>United-States</td>\n",
       "      <td>&lt;=50K</td>\n",
       "    </tr>\n",
       "    <tr>\n",
       "      <th>4</th>\n",
       "      <td>51</td>\n",
       "      <td>Self-emp-inc</td>\n",
       "      <td>338836</td>\n",
       "      <td>Some-college</td>\n",
       "      <td>10</td>\n",
       "      <td>Married-civ-spouse</td>\n",
       "      <td>Exec-managerial</td>\n",
       "      <td>Husband</td>\n",
       "      <td>White</td>\n",
       "      <td>Male</td>\n",
       "      <td>0</td>\n",
       "      <td>0</td>\n",
       "      <td>40</td>\n",
       "      <td>United-States</td>\n",
       "      <td>&gt;50K</td>\n",
       "    </tr>\n",
       "  </tbody>\n",
       "</table>\n",
       "</div>"
      ],
      "text/plain": [
       "   age         workclass  fnlwgt     education  educational-num  \\\n",
       "0   53         Local-gov  283602       Masters               14   \n",
       "1   28  Self-emp-not-inc   35864  Some-college               10   \n",
       "2   29           Private  146764  Some-college               10   \n",
       "3   49           Private   59380  Some-college               10   \n",
       "4   51      Self-emp-inc  338836  Some-college               10   \n",
       "\n",
       "          marital-status       occupation   relationship   race  gender  \\\n",
       "0     Married-civ-spouse   Prof-specialty           Wife  White  Female   \n",
       "1     Married-civ-spouse  Exec-managerial        Husband  Other    Male   \n",
       "2               Divorced     Adm-clerical  Not-in-family  White  Female   \n",
       "3  Married-spouse-absent     Adm-clerical  Not-in-family  White  Female   \n",
       "4     Married-civ-spouse  Exec-managerial        Husband  White    Male   \n",
       "\n",
       "   capital-gain  capital-loss  hours-per-week native-country income  \n",
       "0         15024             0              40  United-States   >50K  \n",
       "1             0             0              70           Iran   >50K  \n",
       "2             0             0              35  United-States  <=50K  \n",
       "3             0             0              40  United-States  <=50K  \n",
       "4             0             0              40  United-States   >50K  "
      ]
     },
     "execution_count": 4,
     "metadata": {},
     "output_type": "execute_result"
    }
   ],
   "source": [
    "df = pd.read_csv('data/train.csv')\n",
    "df.head()"
   ]
  },
  {
   "cell_type": "markdown",
   "metadata": {
    "index": 5,
    "solution": false
   },
   "source": [
    "## Develop a preprocessing strategy\n",
    "\n",
    "\n",
    "### Task 1\n",
    "\n",
    "Write a function called `bin_middle_age` that can be applied to the `age` column in `X_train` and returns a 1 if the age is 45-64 and a zero for every other age. \n",
    "\n",
    "### Task 2\n",
    "\n",
    "Write a function called `bin_capital` that can be applied to the `capital-gain` and `capital-loss` columns in `X_train` and returns a 1 if the input is more than zero and a 0 for anything else.\n",
    "\n",
    "### Task 3\n",
    "\n",
    "Please write code to fit a one hot encoder to all of the object datatypes. Transform the object columns in `X_train` and turn them into a dataframe. For this final step, I'll give you two clues: \"sparse\" and \"dense\". Only one of them will be needed.\n",
    "\n",
    "### Task 4\n",
    "\n",
    "Please write code to scale the `'hours-per-week'` column in `X_train'.\n",
    "\n",
    "### Task 5\n",
    "Merge the transformed features into a new dataframe called `modeling_df`."
   ]
  },
  {
   "cell_type": "code",
   "execution_count": 5,
   "metadata": {
    "ExecuteTime": {
     "end_time": "2021-11-17T17:32:06.990003Z",
     "start_time": "2021-11-17T17:32:06.947155Z"
    }
   },
   "outputs": [],
   "source": [
    "X_train, X_test, y_train, y_test = train_test_split(df.drop('income', axis = 1), \n",
    "                                                    df.income,\n",
    "                                                    random_state = 2020)\n",
    "X_train.reset_index(drop=True, inplace=True)\n",
    "\n",
    "# Task 1\n",
    "# ===========================================\n",
    "def bin_middle_age(age):\n",
    "    pass\n",
    "\n",
    "X_train['age'] = X_train.age.apply(bin_middle_age)\n",
    "# ===========================================\n",
    "\n",
    "# Task 2\n",
    "# ===========================================\n",
    "def bin_capital(x):\n",
    "    pass\n",
    "\n",
    "X_train['capital-gain'] = X_train['capital-gain'].apply(bin_capital)\n",
    "X_train['capital-loss'] = X_train['capital-loss'].apply(bin_capital)\n",
    "\n",
    " \n",
    "X_train.reset_index(drop=True, inplace=True)\n",
    "# ===========================================\n",
    "\n",
    "# Task 3\n",
    "# ===========================================\n",
    "hot_encoder = None\n",
    "categoricals = None\n",
    "# ===========================================\n",
    "\n",
    "# Task 4\n",
    "# ===========================================\n",
    "hours_scaler = None\n",
    "hours_per_week = None\n",
    "# ===========================================\n",
    "\n",
    "# Task 5\n",
    "# ===========================================\n",
    "modeling_df = None\n",
    "# ==========================================="
   ]
  },
  {
   "cell_type": "code",
   "execution_count": 6,
   "metadata": {
    "ExecuteTime": {
     "end_time": "2021-11-17T17:32:07.188005Z",
     "start_time": "2021-11-17T17:32:06.991902Z"
    }
   },
   "outputs": [
    {
     "data": {
      "text/html": [
       "<div>\n",
       "<style scoped>\n",
       "    .dataframe tbody tr th:only-of-type {\n",
       "        vertical-align: middle;\n",
       "    }\n",
       "\n",
       "    .dataframe tbody tr th {\n",
       "        vertical-align: top;\n",
       "    }\n",
       "\n",
       "    .dataframe thead th {\n",
       "        text-align: right;\n",
       "    }\n",
       "</style>\n",
       "<table border=\"1\" class=\"dataframe\">\n",
       "  <thead>\n",
       "    <tr style=\"text-align: right;\">\n",
       "      <th></th>\n",
       "      <th>age</th>\n",
       "      <th>capital-gain</th>\n",
       "      <th>capital-loss</th>\n",
       "      <th>hours-per-week</th>\n",
       "      <th>x0_?</th>\n",
       "      <th>x0_Federal-gov</th>\n",
       "      <th>x0_Local-gov</th>\n",
       "      <th>x0_Never-worked</th>\n",
       "      <th>x0_Private</th>\n",
       "      <th>x0_Self-emp-inc</th>\n",
       "      <th>...</th>\n",
       "      <th>x7_Portugal</th>\n",
       "      <th>x7_Puerto-Rico</th>\n",
       "      <th>x7_Scotland</th>\n",
       "      <th>x7_South</th>\n",
       "      <th>x7_Taiwan</th>\n",
       "      <th>x7_Thailand</th>\n",
       "      <th>x7_Trinadad&amp;Tobago</th>\n",
       "      <th>x7_United-States</th>\n",
       "      <th>x7_Vietnam</th>\n",
       "      <th>x7_Yugoslavia</th>\n",
       "    </tr>\n",
       "  </thead>\n",
       "  <tbody>\n",
       "    <tr>\n",
       "      <th>0</th>\n",
       "      <td>0</td>\n",
       "      <td>0</td>\n",
       "      <td>1</td>\n",
       "      <td>-2.877472</td>\n",
       "      <td>0.0</td>\n",
       "      <td>0.0</td>\n",
       "      <td>0.0</td>\n",
       "      <td>0.0</td>\n",
       "      <td>1.0</td>\n",
       "      <td>0.0</td>\n",
       "      <td>...</td>\n",
       "      <td>0.0</td>\n",
       "      <td>0.0</td>\n",
       "      <td>0.0</td>\n",
       "      <td>0.0</td>\n",
       "      <td>0.0</td>\n",
       "      <td>0.0</td>\n",
       "      <td>0.0</td>\n",
       "      <td>1.0</td>\n",
       "      <td>0.0</td>\n",
       "      <td>0.0</td>\n",
       "    </tr>\n",
       "    <tr>\n",
       "      <th>1</th>\n",
       "      <td>1</td>\n",
       "      <td>0</td>\n",
       "      <td>0</td>\n",
       "      <td>0.775310</td>\n",
       "      <td>0.0</td>\n",
       "      <td>0.0</td>\n",
       "      <td>0.0</td>\n",
       "      <td>0.0</td>\n",
       "      <td>1.0</td>\n",
       "      <td>0.0</td>\n",
       "      <td>...</td>\n",
       "      <td>0.0</td>\n",
       "      <td>0.0</td>\n",
       "      <td>0.0</td>\n",
       "      <td>0.0</td>\n",
       "      <td>0.0</td>\n",
       "      <td>0.0</td>\n",
       "      <td>0.0</td>\n",
       "      <td>1.0</td>\n",
       "      <td>0.0</td>\n",
       "      <td>0.0</td>\n",
       "    </tr>\n",
       "    <tr>\n",
       "      <th>2</th>\n",
       "      <td>0</td>\n",
       "      <td>0</td>\n",
       "      <td>0</td>\n",
       "      <td>0.207100</td>\n",
       "      <td>0.0</td>\n",
       "      <td>0.0</td>\n",
       "      <td>0.0</td>\n",
       "      <td>0.0</td>\n",
       "      <td>1.0</td>\n",
       "      <td>0.0</td>\n",
       "      <td>...</td>\n",
       "      <td>0.0</td>\n",
       "      <td>0.0</td>\n",
       "      <td>0.0</td>\n",
       "      <td>0.0</td>\n",
       "      <td>0.0</td>\n",
       "      <td>0.0</td>\n",
       "      <td>0.0</td>\n",
       "      <td>1.0</td>\n",
       "      <td>0.0</td>\n",
       "      <td>0.0</td>\n",
       "    </tr>\n",
       "    <tr>\n",
       "      <th>3</th>\n",
       "      <td>0</td>\n",
       "      <td>0</td>\n",
       "      <td>0</td>\n",
       "      <td>0.775310</td>\n",
       "      <td>0.0</td>\n",
       "      <td>1.0</td>\n",
       "      <td>0.0</td>\n",
       "      <td>0.0</td>\n",
       "      <td>0.0</td>\n",
       "      <td>0.0</td>\n",
       "      <td>...</td>\n",
       "      <td>0.0</td>\n",
       "      <td>0.0</td>\n",
       "      <td>0.0</td>\n",
       "      <td>0.0</td>\n",
       "      <td>0.0</td>\n",
       "      <td>0.0</td>\n",
       "      <td>0.0</td>\n",
       "      <td>1.0</td>\n",
       "      <td>0.0</td>\n",
       "      <td>0.0</td>\n",
       "    </tr>\n",
       "    <tr>\n",
       "      <th>4</th>\n",
       "      <td>0</td>\n",
       "      <td>0</td>\n",
       "      <td>0</td>\n",
       "      <td>-0.036419</td>\n",
       "      <td>0.0</td>\n",
       "      <td>0.0</td>\n",
       "      <td>1.0</td>\n",
       "      <td>0.0</td>\n",
       "      <td>0.0</td>\n",
       "      <td>0.0</td>\n",
       "      <td>...</td>\n",
       "      <td>0.0</td>\n",
       "      <td>0.0</td>\n",
       "      <td>0.0</td>\n",
       "      <td>0.0</td>\n",
       "      <td>0.0</td>\n",
       "      <td>0.0</td>\n",
       "      <td>0.0</td>\n",
       "      <td>1.0</td>\n",
       "      <td>0.0</td>\n",
       "      <td>0.0</td>\n",
       "    </tr>\n",
       "  </tbody>\n",
       "</table>\n",
       "<p>5 rows × 106 columns</p>\n",
       "</div>"
      ],
      "text/plain": [
       "   age  capital-gain  capital-loss  hours-per-week  x0_?  x0_Federal-gov  \\\n",
       "0    0             0             1       -2.877472   0.0             0.0   \n",
       "1    1             0             0        0.775310   0.0             0.0   \n",
       "2    0             0             0        0.207100   0.0             0.0   \n",
       "3    0             0             0        0.775310   0.0             1.0   \n",
       "4    0             0             0       -0.036419   0.0             0.0   \n",
       "\n",
       "   x0_Local-gov  x0_Never-worked  x0_Private  x0_Self-emp-inc  ...  \\\n",
       "0           0.0              0.0         1.0              0.0  ...   \n",
       "1           0.0              0.0         1.0              0.0  ...   \n",
       "2           0.0              0.0         1.0              0.0  ...   \n",
       "3           0.0              0.0         0.0              0.0  ...   \n",
       "4           1.0              0.0         0.0              0.0  ...   \n",
       "\n",
       "   x7_Portugal  x7_Puerto-Rico  x7_Scotland  x7_South  x7_Taiwan  x7_Thailand  \\\n",
       "0          0.0             0.0          0.0       0.0        0.0          0.0   \n",
       "1          0.0             0.0          0.0       0.0        0.0          0.0   \n",
       "2          0.0             0.0          0.0       0.0        0.0          0.0   \n",
       "3          0.0             0.0          0.0       0.0        0.0          0.0   \n",
       "4          0.0             0.0          0.0       0.0        0.0          0.0   \n",
       "\n",
       "   x7_Trinadad&Tobago  x7_United-States  x7_Vietnam  x7_Yugoslavia  \n",
       "0                 0.0               1.0         0.0            0.0  \n",
       "1                 0.0               1.0         0.0            0.0  \n",
       "2                 0.0               1.0         0.0            0.0  \n",
       "3                 0.0               1.0         0.0            0.0  \n",
       "4                 0.0               1.0         0.0            0.0  \n",
       "\n",
       "[5 rows x 106 columns]"
      ]
     },
     "execution_count": 6,
     "metadata": {},
     "output_type": "execute_result"
    }
   ],
   "source": [
    "X_train, X_val, y_train, y_val = train_test_split(df.drop('income', axis = 1), \n",
    "                                                    df.income,\n",
    "                                                    random_state = 2020)  \n",
    "X_train.reset_index(drop=True, inplace=True)\n",
    "\n",
    "# Task 1\n",
    "# ===========================================\n",
    "def bin_middle_age(age):\n",
    "    return int(age >= 45 and age <= 64)\n",
    "\n",
    "X_train['age'] = X_train.age.apply(bin_middle_age)\n",
    "# ===========================================\n",
    "\n",
    "# Task 2\n",
    "# ===========================================\n",
    "def bin_capital(x):\n",
    "    return int(x > 0)\n",
    "\n",
    "X_train['capital-gain'] = X_train['capital-gain'].apply(bin_capital)\n",
    "X_train['capital-loss'] = X_train['capital-loss'].apply(bin_capital)\n",
    "# ===========================================\n",
    "\n",
    "# Task 3\n",
    "# ===========================================\n",
    "hot_encoder = OneHotEncoder(sparse=False)\n",
    "categoricals = hot_encoder.fit_transform(X_train.select_dtypes(object))\n",
    "categoricals = pd.DataFrame(categoricals, columns = hot_encoder.get_feature_names())\n",
    "# ===========================================\n",
    "\n",
    "# Task 4\n",
    "# ===========================================\n",
    "hours_scaler = StandardScaler()\n",
    "hours_per_week = hours_scaler.fit_transform(X_train['hours-per-week'].values.reshape(-1,1))\n",
    "hours_per_week = pd.DataFrame(hours_per_week, columns = ['hours-per-week'])\n",
    "# ===========================================\n",
    "\n",
    "# Task 5\n",
    "# ===========================================\n",
    "modeling_df = pd.concat([X_train.age, X_train['capital-gain'], X_train['capital-loss'], \n",
    "                         hours_per_week, categoricals], axis = 1)\n",
    "# ===========================================\n",
    "\n",
    "modeling_df.head()"
   ]
  },
  {
   "cell_type": "markdown",
   "metadata": {
    "index": 8,
    "solution": false
   },
   "source": [
    "# Move all of this into a Pipeline\n",
    "\n",
    "\n",
    "### Writing a custom transformer\n",
    "\n",
    "Above we used two sklearn transformers and two custom functions to format our dataframe. This means, that we will need to create two custom transformers. The sklearn transformers can be used as they are.\n",
    "\n",
    "To do this, we will create a class called `BinAge` that inherits from the sklearn classes, `TransformerMixin` and `BaseEstimator`. This class should have the following methods:\n",
    "\n",
    "1. `fit`\n",
    "    - This method should have three arguments\n",
    "        1. self\n",
    "        2. `X`.\n",
    "        3. `y=None`\n",
    "    - This method should return `self`.\n",
    "    \n",
    "1. `_bin_data`\n",
    "    - This method is our function for binning the age column\n",
    "    \n",
    "1. `transform`\n",
    "    - This method should have two arguments\n",
    "        1. self\n",
    "        2. `X`\n",
    "    - This method should apply the `_bin_data` method to `X`\n",
    "    - Return the binned data"
   ]
  },
  {
   "cell_type": "code",
   "execution_count": 7,
   "metadata": {
    "ExecuteTime": {
     "end_time": "2021-11-17T17:32:07.196141Z",
     "start_time": "2021-11-17T17:32:07.192911Z"
    }
   },
   "outputs": [],
   "source": [
    "from numpy import vectorize\n",
    "\n",
    "class BinAge():\n",
    "    \n",
    "    def fit(self, X, y=None):\n",
    "        pass\n",
    "    \n",
    "    @vectorize\n",
    "    def _bin_data(x):\n",
    "        return int(x >= 45 and x <= 64)\n",
    "    \n",
    "    def transform(self, X):\n",
    "        pass"
   ]
  },
  {
   "cell_type": "code",
   "execution_count": 8,
   "metadata": {
    "ExecuteTime": {
     "end_time": "2021-11-17T17:32:07.202261Z",
     "start_time": "2021-11-17T17:32:07.198991Z"
    },
    "code_folding": [],
    "execution": {
     "iopub.execute_input": "2021-11-17T04:33:18.362957Z",
     "iopub.status.busy": "2021-11-17T04:33:18.362097Z",
     "iopub.status.idle": "2021-11-17T04:33:18.364394Z",
     "shell.execute_reply": "2021-11-17T04:33:18.364779Z"
    },
    "index": 10,
    "run_control": {
     "marked": false
    },
    "solution": false
   },
   "outputs": [],
   "source": [
    "from numpy import vectorize\n",
    "\n",
    "class BinAge(TransformerMixin, BaseEstimator):\n",
    "    \n",
    "    def fit(self, X, y=None):\n",
    "        return self\n",
    "    \n",
    "    @vectorize\n",
    "    def _bin_data(x):\n",
    "        return int(x >= 45 and x <= 64)\n",
    "        \n",
    "    def transform(self, X):\n",
    "        return self._bin_data(X)"
   ]
  },
  {
   "cell_type": "markdown",
   "metadata": {},
   "source": [
    "**Now repeat the process for a `BinCapital` Transformer!**"
   ]
  },
  {
   "cell_type": "code",
   "execution_count": 9,
   "metadata": {
    "ExecuteTime": {
     "end_time": "2021-11-17T17:32:07.206369Z",
     "start_time": "2021-11-17T17:32:07.204000Z"
    }
   },
   "source": [
    "**Now repeat the process for a `BinCapital` Transformer!**"
   ]
  },
  {
   "cell_type": "code",
   "execution_count": 10,
   "metadata": {
    "ExecuteTime": {
     "end_time": "2021-11-17T17:32:07.211569Z",
     "start_time": "2021-11-17T17:32:07.208403Z"
    }
   },
   "outputs": [],
   "source": [
    "class BinCapital(TransformerMixin, BaseEstimator):\n",
    "    def __init__(self):\n",
    "        pass\n",
    "    \n",
    "    def fit(self, X, y=None):\n",
    "        return self\n",
    "    \n",
    "    @vectorize\n",
    "    def _bin_data(x):\n",
    "        return int(x > 0)\n",
    "        \n",
    "    def transform(self, X):\n",
    "        return self._bin_data(X)"
   ]
  },
  {
   "cell_type": "markdown",
   "metadata": {
    "index": 14,
    "solution": false
   },
   "source": [
    "## Create pipeline\n",
    "\n",
    "To make this pipeline, we will use the following sklearn functions:\n",
    "\n",
    "1. `make_column_transformer`\n",
    "> This function receives \"Tuples of the form `(transformer, [columns])` specifying the transformer objects to be applied to subsets of the data.\"\n",
    "2. `make_column_selector`\n",
    "> \"Selects columns based on datatype or the columns name with a regex. When using multiple selection criteria, all criteria must match for a column to be selected.\"\n",
    "3. `make_pipeline`\n",
    "> Used to create a pipeline of inputer transformer and estimator objects."
   ]
  },
  {
   "cell_type": "code",
   "execution_count": 11,
   "metadata": {
    "ExecuteTime": {
     "end_time": "2021-11-17T17:32:07.216720Z",
     "start_time": "2021-11-17T17:32:07.213464Z"
    }
   },
   "outputs": [],
   "source": [
    "preprocessing = make_column_transformer((BinAge(), ['age']),\n",
    "                                      (BinCapital(), ['capital-gain']),\n",
    "                                      (BinCapital(), ['capital-loss']),\n",
    "                                      (OneHotEncoder(sparse=False, handle_unknown='ignore'),\n",
    "                                       make_column_selector(dtype_include=object)),\n",
    "                                      (StandardScaler(), ['hours-per-week']),\n",
    "                                      remainder='drop')"
   ]
  },
  {
   "cell_type": "code",
   "execution_count": 12,
   "metadata": {
    "ExecuteTime": {
     "end_time": "2021-11-17T17:32:07.224086Z",
     "start_time": "2021-11-17T17:32:07.218886Z"
    }
   },
   "outputs": [],
   "source": [
    "preprocessing = make_column_transformer((BinAge(), ['age']),\n",
    "                                      (BinCapital(), ['capital-gain']),\n",
    "                                      (BinCapital(), ['capital-loss']),\n",
    "                                      (OneHotEncoder(sparse=False, handle_unknown='ignore'),\n",
    "                                       make_column_selector(dtype_include=object)),\n",
    "                                      (StandardScaler(), ['hours-per-week']),\n",
    "                                      remainder='drop')"
   ]
  },
  {
   "cell_type": "markdown",
   "metadata": {},
   "source": [
    "Now all of our preprocessing can be done with the `fit_transform` method!"
   ]
  },
  {
   "cell_type": "code",
   "execution_count": 13,
   "metadata": {
    "ExecuteTime": {
     "end_time": "2021-11-17T17:32:07.346664Z",
     "start_time": "2021-11-17T17:32:07.226673Z"
    }
   },
   "outputs": [
    {
     "data": {
      "text/plain": [
       "array([[ 0.        ,  0.        ,  1.        , ...,  0.        ,\n",
       "         0.        , -2.87747181],\n",
       "       [ 0.        ,  0.        ,  0.        , ...,  0.        ,\n",
       "         0.        ,  0.77531045],\n",
       "       [ 0.        ,  0.        ,  0.        , ...,  0.        ,\n",
       "         0.        ,  0.20709987],\n",
       "       ...,\n",
       "       [ 0.        ,  0.        ,  0.        , ...,  0.        ,\n",
       "         0.        , -0.03641894],\n",
       "       [ 0.        ,  0.        ,  0.        , ...,  0.        ,\n",
       "         0.        ,  0.28827281],\n",
       "       [ 0.        ,  0.        ,  0.        , ...,  0.        ,\n",
       "         0.        ,  0.77531045]])"
      ]
     },
     "execution_count": 13,
     "metadata": {},
     "output_type": "execute_result"
    }
   ],
   "source": [
    "Now all of our preprocessing can be done with the `fit_transform` method!"
   ]
  },
  {
   "cell_type": "code",
   "execution_count": 14,
   "metadata": {
    "ExecuteTime": {
     "end_time": "2021-11-17T17:32:07.453806Z",
     "start_time": "2021-11-17T17:32:07.349067Z"
    }
   },
   "outputs": [
    {
     "data": {
      "text/plain": [
       "array([[ 0.        ,  0.        ,  1.        , ...,  0.        ,\n",
       "         0.        , -2.87747181],\n",
       "       [ 0.        ,  0.        ,  0.        , ...,  0.        ,\n",
       "         0.        ,  0.77531045],\n",
       "       [ 0.        ,  0.        ,  0.        , ...,  0.        ,\n",
       "         0.        ,  0.20709987],\n",
       "       ...,\n",
       "       [ 0.        ,  0.        ,  0.        , ...,  0.        ,\n",
       "         0.        , -0.03641894],\n",
       "       [ 0.        ,  0.        ,  0.        , ...,  0.        ,\n",
       "         0.        ,  0.28827281],\n",
       "       [ 0.        ,  0.        ,  0.        , ...,  0.        ,\n",
       "         0.        ,  0.77531045]])"
      ]
     },
     "execution_count": 14,
     "metadata": {},
     "output_type": "execute_result"
    }
   ],
   "source": [
    "preprocessing.fit_transform(X_train)"
   ]
  },
  {
   "cell_type": "markdown",
   "metadata": {},
   "source": [
    "To finish up pipeline, we can add a machine learning model to a new pipeline!"
   ]
  },
  {
   "cell_type": "code",
   "execution_count": 15,
   "metadata": {
    "ExecuteTime": {
     "end_time": "2021-11-17T17:32:07.460348Z",
     "start_time": "2021-11-17T17:32:07.456826Z"
    }
   },
   "source": [
    "To finish up pipeline, we can add a machine learning model to a new pipeline!"
   ]
  },
  {
   "cell_type": "code",
   "execution_count": 16,
   "metadata": {
    "ExecuteTime": {
     "end_time": "2021-11-17T17:32:07.465700Z",
     "start_time": "2021-11-17T17:32:07.462655Z"
    }
   },
   "outputs": [],
   "source": [
    "dt_pipeline = make_pipeline(preprocessing, DecisionTreeClassifier())\n",
    "rf_pipeline = make_pipeline(preprocessing, RandomForestClassifier(max_depth=10))"
   ]
  },
  {
   "cell_type": "markdown",
   "metadata": {
    "index": 23,
    "solution": false
   },
   "source": [
    "## Our pipelines are built!\n",
    "\n",
    "Now we can run them through cross validation!"
   ]
  },
  {
   "cell_type": "code",
   "execution_count": 17,
   "metadata": {
    "ExecuteTime": {
     "end_time": "2021-11-17T17:32:09.423029Z",
     "start_time": "2021-11-17T17:32:07.467651Z"
    }
   },
   "outputs": [
    {
     "data": {
      "text/plain": [
       "array([0.80727934, 0.81146497, 0.80746133, 0.81234074, 0.80269385])"
      ]
     },
     "execution_count": 17,
     "metadata": {},
     "output_type": "execute_result"
    }
   ],
   "source": [
    "cross_val_score(dt_pipeline, X_train, y_train)"
   ]
  },
  {
   "cell_type": "code",
   "execution_count": 18,
   "metadata": {
    "ExecuteTime": {
     "end_time": "2021-11-17T17:32:11.379716Z",
     "start_time": "2021-11-17T17:32:09.425809Z"
    }
   },
   "outputs": [
    {
     "data": {
      "text/plain": [
       "array([0.80527753, 0.81091902, 0.80709736, 0.8119767 , 0.804332  ])"
      ]
     },
     "execution_count": 18,
     "metadata": {},
     "output_type": "execute_result"
    }
   ],
   "source": [
    "cross_val_score(dt_pipeline, X_train, y_train)"
   ]
  },
  {
   "cell_type": "code",
   "execution_count": 19,
   "metadata": {
    "ExecuteTime": {
     "end_time": "2021-11-17T17:32:18.207268Z",
     "start_time": "2021-11-17T17:32:11.381569Z"
    }
   },
   "outputs": [
    {
     "data": {
      "text/plain": [
       "array([0.83676069, 0.833303  , 0.83130118, 0.8380051 , 0.82963233])"
      ]
     },
     "execution_count": 19,
     "metadata": {},
     "output_type": "execute_result"
    }
   ],
   "source": [
    "cross_val_score(rf_pipeline, X_train, y_train)"
   ]
  },
  {
   "cell_type": "code",
   "execution_count": 20,
   "metadata": {
    "ExecuteTime": {
     "end_time": "2021-11-17T17:32:24.748711Z",
     "start_time": "2021-11-17T17:32:18.209508Z"
    }
   },
   "outputs": [
    {
     "data": {
      "text/plain": [
       "array([0.83676069, 0.83275705, 0.83093722, 0.83946123, 0.83199854])"
      ]
     },
     "execution_count": 20,
     "metadata": {},
     "output_type": "execute_result"
    }
   ],
   "source": [
    "cross_val_score(rf_pipeline, X_train, y_train)"
   ]
  },
  {
   "cell_type": "code",
   "execution_count": 21,
   "metadata": {
    "ExecuteTime": {
     "end_time": "2021-11-17T17:32:26.791477Z",
     "start_time": "2021-11-17T17:32:24.751042Z"
    }
   },
   "outputs": [
    {
     "name": "stdout",
     "output_type": "stream",
     "text": [
      "Training Accuracy: 0.8435554908455575\n",
      "Validation Accuracy: 0.840467350949989\n"
     ]
    }
   ],
   "source": [
    "rf_pipeline.fit(X_train, y_train)\n",
    "train_preds = rf_pipeline.predict(X_train)\n",
    "val_preds = rf_pipeline.predict(X_val)\n",
    "print(f'Training Accuracy: {accuracy_score(y_train, train_preds)}')\n",
    "print(f'Validation Accuracy: {accuracy_score(y_val, val_preds)}')"
   ]
  },
  {
   "cell_type": "code",
   "execution_count": 22,
   "metadata": {
    "ExecuteTime": {
     "end_time": "2021-11-17T17:32:28.846680Z",
     "start_time": "2021-11-17T17:32:26.798612Z"
    }
   },
   "outputs": [
    {
     "name": "stdout",
     "output_type": "stream",
     "text": [
      "Training Accuracy: 0.8427183052451498\n",
      "Validation Accuracy: 0.8376283031229526\n"
     ]
    }
   ],
   "source": [
    "rf_pipeline.fit(X_train, y_train)\n",
    "train_preds = rf_pipeline.predict(X_train)\n",
    "val_preds = rf_pipeline.predict(X_val)\n",
    "print(f'Training Accuracy: {accuracy_score(y_train, train_preds)}')\n",
    "print(f'Validation Accuracy: {accuracy_score(y_val, val_preds)}')"
   ]
  },
  {
   "cell_type": "markdown",
   "metadata": {},
   "source": [
    "Finally, we can fit the final pipeline on all of the data and test it on an additional hold out set!"
   ]
  },
  {
   "cell_type": "code",
   "execution_count": 23,
   "metadata": {
    "ExecuteTime": {
     "end_time": "2021-11-17T17:32:31.812030Z",
     "start_time": "2021-11-17T17:32:28.851523Z"
    }
   },
   "outputs": [
    {
     "data": {
      "text/plain": [
       "Pipeline(steps=[('columntransformer',\n",
       "                 ColumnTransformer(transformers=[('binage', BinAge(), ['age']),\n",
       "                                                 ('bincapital-1', BinCapital(),\n",
       "                                                  ['capital-gain']),\n",
       "                                                 ('bincapital-2', BinCapital(),\n",
       "                                                  ['capital-loss']),\n",
       "                                                 ('onehotencoder',\n",
       "                                                  OneHotEncoder(handle_unknown='ignore',\n",
       "                                                                sparse=False),\n",
       "                                                  <sklearn.compose._column_transformer.make_column_selector object at 0x7fdfc1fd9590>),\n",
       "                                                 ('standardscaler',\n",
       "                                                  StandardScaler(),\n",
       "                                                  ['hours-per-week'])])),\n",
       "                ('randomforestclassifier',\n",
       "                 RandomForestClassifier(max_depth=10))])"
      ]
     },
     "execution_count": 23,
     "metadata": {},
     "output_type": "execute_result"
    }
   ],
   "source": [
    "Finally, we can fit the final pipeline on all of the data and test it on an additional hold out set!"
   ]
  },
  {
   "cell_type": "code",
   "execution_count": 24,
   "metadata": {
    "ExecuteTime": {
     "end_time": "2021-11-17T17:32:34.271674Z",
     "start_time": "2021-11-17T17:32:31.814786Z"
    }
   },
   "outputs": [
    {
     "data": {
      "text/plain": [
       "Pipeline(steps=[('columntransformer',\n",
       "                 ColumnTransformer(transformers=[('binage', BinAge(), ['age']),\n",
       "                                                 ('bincapital-1', BinCapital(),\n",
       "                                                  ['capital-gain']),\n",
       "                                                 ('bincapital-2', BinCapital(),\n",
       "                                                  ['capital-loss']),\n",
       "                                                 ('onehotencoder',\n",
       "                                                  OneHotEncoder(handle_unknown='ignore',\n",
       "                                                                sparse=False),\n",
       "                                                  <sklearn.compose._column_transformer.make_column_selector object at 0x7fdfc1fd9590>),\n",
       "                                                 ('standardscaler',\n",
       "                                                  StandardScaler(),\n",
       "                                                  ['hours-per-week'])])),\n",
       "                ('randomforestclassifier',\n",
       "                 RandomForestClassifier(max_depth=10))])"
      ]
     },
     "execution_count": 24,
     "metadata": {},
     "output_type": "execute_result"
    }
   ],
   "source": [
    "rf_pipeline.fit(df.drop('income', axis = 1), df.income)"
   ]
  },
  {
   "cell_type": "markdown",
   "metadata": {},
   "source": [
    "Load in the hold out set and make predictions!"
   ]
  },
  {
   "cell_type": "code",
   "execution_count": 25,
   "metadata": {
    "ExecuteTime": {
     "end_time": "2021-11-17T17:32:34.504030Z",
     "start_time": "2021-11-17T17:32:34.273177Z"
    }
   },
   "outputs": [
    {
     "data": {
      "text/plain": [
       "0.8423552534599951"
      ]
     },
     "execution_count": 25,
     "metadata": {},
     "output_type": "execute_result"
    }
   ],
   "source": [
    "Load in the hold out set and make predictions!"
   ]
  },
  {
   "cell_type": "code",
   "execution_count": 26,
   "metadata": {
    "ExecuteTime": {
     "end_time": "2021-11-17T17:32:34.710475Z",
     "start_time": "2021-11-17T17:32:34.505779Z"
    }
   },
   "outputs": [
    {
     "data": {
      "text/plain": [
       "0.8423552534599951"
      ]
     },
     "execution_count": 26,
     "metadata": {},
     "output_type": "execute_result"
    }
   ],
   "source": [
    "# Import holdout data\n",
    "test = pd.read_csv('data/test.csv')\n",
    "# Seperate features from the target\n",
    "X_test, y_test = test.drop(columns=['income']), test.income\n",
    "# Score the model\n",
    "rf_pipeline.score(X_test, y_test)"
   ]
  },
  {
   "cell_type": "markdown",
   "metadata": {
    "index": 36,
    "solution": false
   },
   "source": [
    "### Save the model to disk"
   ]
  },
  {
   "cell_type": "code",
   "execution_count": 27,
   "metadata": {
    "ExecuteTime": {
     "end_time": "2021-11-17T17:32:37.008767Z",
     "start_time": "2021-11-17T17:32:34.712212Z"
    }
   },
   "outputs": [],
   "source": [
    "# Merge training and hold out sets\n",
    "full_data = pd.concat([df, test])\n",
    "\n",
    "# Seperate the features from the target\n",
    "X, y = df.drop(columns=['income']), df.income\n",
    "\n",
    "# Fit the model to *all* observations\n",
    "rf_pipeline.fit(X, y)\n",
    "\n",
    "# Save the fit model to disk\n",
    "file = open('model_v1.pkl', 'wb')\n",
    "pickle.dump(rf_pipeline, file)\n",
    "file.close()"
   ]
  },
  {
   "cell_type": "code",
   "execution_count": 28,
   "metadata": {
    "ExecuteTime": {
     "end_time": "2021-11-17T17:32:39.442438Z",
     "start_time": "2021-11-17T17:32:37.010939Z"
    }
   },
   "outputs": [],
   "source": [
    "#__SOLUTION__\n",
    "# Merge training and hold out sets\n",
    "full_data = pd.concat([df, test])\n",
    "\n",
    "# Seperate the features from the target\n",
    "X, y = df.drop(columns=['income']), df.income\n",
    "\n",
    "# Fit the model to *all* observations\n",
    "rf_pipeline.fit(X, y)\n",
    "\n",
    "# Save the fit model to disk\n",
    "file = open('model_v1.pkl', 'wb')\n",
    "pickle.dump(rf_pipeline, file)\n",
    "file.close()"
   ]
  },
  {
   "cell_type": "markdown",
   "metadata": {},
   "source": [
    "### Check the saved model works when loaded"
   ]
  },
  {
   "cell_type": "code",
   "execution_count": 29,
   "metadata": {
    "ExecuteTime": {
     "end_time": "2021-11-17T17:32:39.915723Z",
     "start_time": "2021-11-17T17:32:39.444716Z"
    }
   },
   "outputs": [
    {
     "data": {
      "text/plain": [
       "array(['>50K', '<=50K', '<=50K', ..., '<=50K', '<=50K', '<=50K'],\n",
       "      dtype=object)"
      ]
     },
     "execution_count": 29,
     "metadata": {},
     "output_type": "execute_result"
    }
   ],
   "source": [
    "### Check the saved model works when loaded"
   ]
  },
  {
   "cell_type": "code",
   "execution_count": 30,
   "metadata": {
    "ExecuteTime": {
     "end_time": "2021-11-17T17:32:40.422791Z",
     "start_time": "2021-11-17T17:32:39.918269Z"
    }
   },
   "outputs": [
    {
     "data": {
      "text/plain": [
       "array(['>50K', '<=50K', '<=50K', ..., '<=50K', '<=50K', '<=50K'],\n",
       "      dtype=object)"
      ]
     },
     "execution_count": 30,
     "metadata": {},
     "output_type": "execute_result"
    }
   ],
   "source": [
    "# Load the model\n",
    "file = open('model_v1.pkl', 'rb')\n",
    "model = pickle.load(file)\n",
    "file.close()\n",
    "\n",
    "# Generate predictions\n",
    "model.predict(X)"
   ]
  },
  {
   "cell_type": "markdown",
   "metadata": {},
   "source": [
    "### Visualize the pipeline!"
   ]
  },
  {
   "cell_type": "code",
   "execution_count": 31,
   "metadata": {
    "ExecuteTime": {
     "end_time": "2021-11-17T17:32:53.956300Z",
     "start_time": "2021-11-17T17:32:53.060089Z"
    }
   },
   "outputs": [
    {
     "data": {
      "text/html": [
       "<style>div.sk-top-container {color: black;background-color: white;}div.sk-toggleable {background-color: white;}label.sk-toggleable__label {cursor: pointer;display: block;width: 100%;margin-bottom: 0;padding: 0.2em 0.3em;box-sizing: border-box;text-align: center;}div.sk-toggleable__content {max-height: 0;max-width: 0;overflow: hidden;text-align: left;background-color: #f0f8ff;}div.sk-toggleable__content pre {margin: 0.2em;color: black;border-radius: 0.25em;background-color: #f0f8ff;}input.sk-toggleable__control:checked~div.sk-toggleable__content {max-height: 200px;max-width: 100%;overflow: auto;}div.sk-estimator input.sk-toggleable__control:checked~label.sk-toggleable__label {background-color: #d4ebff;}div.sk-label input.sk-toggleable__control:checked~label.sk-toggleable__label {background-color: #d4ebff;}input.sk-hidden--visually {border: 0;clip: rect(1px 1px 1px 1px);clip: rect(1px, 1px, 1px, 1px);height: 1px;margin: -1px;overflow: hidden;padding: 0;position: absolute;width: 1px;}div.sk-estimator {font-family: monospace;background-color: #f0f8ff;margin: 0.25em 0.25em;border: 1px dotted black;border-radius: 0.25em;box-sizing: border-box;}div.sk-estimator:hover {background-color: #d4ebff;}div.sk-parallel-item::after {content: \"\";width: 100%;border-bottom: 1px solid gray;flex-grow: 1;}div.sk-label:hover label.sk-toggleable__label {background-color: #d4ebff;}div.sk-serial::before {content: \"\";position: absolute;border-left: 1px solid gray;box-sizing: border-box;top: 2em;bottom: 0;left: 50%;}div.sk-serial {display: flex;flex-direction: column;align-items: center;background-color: white;}div.sk-item {z-index: 1;}div.sk-parallel {display: flex;align-items: stretch;justify-content: center;background-color: white;}div.sk-parallel-item {display: flex;flex-direction: column;position: relative;background-color: white;}div.sk-parallel-item:first-child::after {align-self: flex-end;width: 50%;}div.sk-parallel-item:last-child::after {align-self: flex-start;width: 50%;}div.sk-parallel-item:only-child::after {width: 0;}div.sk-dashed-wrapped {border: 1px dashed gray;margin: 0.2em;box-sizing: border-box;padding-bottom: 0.1em;background-color: white;position: relative;}div.sk-label label {font-family: monospace;font-weight: bold;background-color: white;display: inline-block;line-height: 1.2em;}div.sk-label-container {position: relative;z-index: 2;text-align: center;}div.sk-container {display: inline-block;position: relative;}</style><div class=\"sk-top-container\"><div class=\"sk-container\"><div class=\"sk-item sk-dashed-wrapped\"><div class=\"sk-label-container\"><div class=\"sk-label sk-toggleable\"><input class=\"sk-toggleable__control sk-hidden--visually\" id=\"c7965859-c316-4852-9687-dd580d122b7b\" type=\"checkbox\" ><label class=\"sk-toggleable__label\" for=\"c7965859-c316-4852-9687-dd580d122b7b\">Pipeline</label><div class=\"sk-toggleable__content\"><pre>Pipeline(steps=[('columntransformer',\n",
       "                 ColumnTransformer(transformers=[('binage', BinAge(), ['age']),\n",
       "                                                 ('bincapital-1', BinCapital(),\n",
       "                                                  ['capital-gain']),\n",
       "                                                 ('bincapital-2', BinCapital(),\n",
       "                                                  ['capital-loss']),\n",
       "                                                 ('onehotencoder',\n",
       "                                                  OneHotEncoder(handle_unknown='ignore',\n",
       "                                                                sparse=False),\n",
       "                                                  <sklearn.compose._column_transformer.make_column_selector object at 0x7fdfad207bd0>),\n",
       "                                                 ('standardscaler',\n",
       "                                                  StandardScaler(),\n",
       "                                                  ['hours-per-week'])])),\n",
       "                ('randomforestclassifier',\n",
       "                 RandomForestClassifier(max_depth=10))])</pre></div></div></div><div class=\"sk-serial\"><div class=\"sk-item sk-dashed-wrapped\"><div class=\"sk-label-container\"><div class=\"sk-label sk-toggleable\"><input class=\"sk-toggleable__control sk-hidden--visually\" id=\"d2e7c754-8489-41fd-901b-5f29edeae048\" type=\"checkbox\" ><label class=\"sk-toggleable__label\" for=\"d2e7c754-8489-41fd-901b-5f29edeae048\">columntransformer: ColumnTransformer</label><div class=\"sk-toggleable__content\"><pre>ColumnTransformer(transformers=[('binage', BinAge(), ['age']),\n",
       "                                ('bincapital-1', BinCapital(),\n",
       "                                 ['capital-gain']),\n",
       "                                ('bincapital-2', BinCapital(),\n",
       "                                 ['capital-loss']),\n",
       "                                ('onehotencoder',\n",
       "                                 OneHotEncoder(handle_unknown='ignore',\n",
       "                                               sparse=False),\n",
       "                                 <sklearn.compose._column_transformer.make_column_selector object at 0x7fdfad207bd0>),\n",
       "                                ('standardscaler', StandardScaler(),\n",
       "                                 ['hours-per-week'])])</pre></div></div></div><div class=\"sk-parallel\"><div class=\"sk-parallel-item\"><div class=\"sk-item\"><div class=\"sk-label-container\"><div class=\"sk-label sk-toggleable\"><input class=\"sk-toggleable__control sk-hidden--visually\" id=\"e8dbeacd-2a43-4667-bd56-46b9f2357d8a\" type=\"checkbox\" ><label class=\"sk-toggleable__label\" for=\"e8dbeacd-2a43-4667-bd56-46b9f2357d8a\">binage</label><div class=\"sk-toggleable__content\"><pre>['age']</pre></div></div></div><div class=\"sk-serial\"><div class=\"sk-item\"><div class=\"sk-estimator sk-toggleable\"><input class=\"sk-toggleable__control sk-hidden--visually\" id=\"2c99c595-24aa-4748-93cb-780004207380\" type=\"checkbox\" ><label class=\"sk-toggleable__label\" for=\"2c99c595-24aa-4748-93cb-780004207380\">BinAge</label><div class=\"sk-toggleable__content\"><pre>BinAge()</pre></div></div></div></div></div></div><div class=\"sk-parallel-item\"><div class=\"sk-item\"><div class=\"sk-label-container\"><div class=\"sk-label sk-toggleable\"><input class=\"sk-toggleable__control sk-hidden--visually\" id=\"a117ee16-174b-484d-9de1-5ec05b1eaabc\" type=\"checkbox\" ><label class=\"sk-toggleable__label\" for=\"a117ee16-174b-484d-9de1-5ec05b1eaabc\">bincapital-1</label><div class=\"sk-toggleable__content\"><pre>['capital-gain']</pre></div></div></div><div class=\"sk-serial\"><div class=\"sk-item\"><div class=\"sk-estimator sk-toggleable\"><input class=\"sk-toggleable__control sk-hidden--visually\" id=\"d9247a84-137f-4cac-b76d-0ff5c7100288\" type=\"checkbox\" ><label class=\"sk-toggleable__label\" for=\"d9247a84-137f-4cac-b76d-0ff5c7100288\">BinCapital</label><div class=\"sk-toggleable__content\"><pre>BinCapital()</pre></div></div></div></div></div></div><div class=\"sk-parallel-item\"><div class=\"sk-item\"><div class=\"sk-label-container\"><div class=\"sk-label sk-toggleable\"><input class=\"sk-toggleable__control sk-hidden--visually\" id=\"48d9ecc8-053c-4bdf-837d-33708018b3eb\" type=\"checkbox\" ><label class=\"sk-toggleable__label\" for=\"48d9ecc8-053c-4bdf-837d-33708018b3eb\">bincapital-2</label><div class=\"sk-toggleable__content\"><pre>['capital-loss']</pre></div></div></div><div class=\"sk-serial\"><div class=\"sk-item\"><div class=\"sk-estimator sk-toggleable\"><input class=\"sk-toggleable__control sk-hidden--visually\" id=\"e64aba64-bef8-40f3-ba82-d24991052dc2\" type=\"checkbox\" ><label class=\"sk-toggleable__label\" for=\"e64aba64-bef8-40f3-ba82-d24991052dc2\">BinCapital</label><div class=\"sk-toggleable__content\"><pre>BinCapital()</pre></div></div></div></div></div></div><div class=\"sk-parallel-item\"><div class=\"sk-item\"><div class=\"sk-label-container\"><div class=\"sk-label sk-toggleable\"><input class=\"sk-toggleable__control sk-hidden--visually\" id=\"ffcc5d5f-d51f-49d1-9ccf-9326971fa0c2\" type=\"checkbox\" ><label class=\"sk-toggleable__label\" for=\"ffcc5d5f-d51f-49d1-9ccf-9326971fa0c2\">onehotencoder</label><div class=\"sk-toggleable__content\"><pre><sklearn.compose._column_transformer.make_column_selector object at 0x7fdfad207bd0></pre></div></div></div><div class=\"sk-serial\"><div class=\"sk-item\"><div class=\"sk-estimator sk-toggleable\"><input class=\"sk-toggleable__control sk-hidden--visually\" id=\"a285c11d-bdea-418f-b688-804f45a7bc54\" type=\"checkbox\" ><label class=\"sk-toggleable__label\" for=\"a285c11d-bdea-418f-b688-804f45a7bc54\">OneHotEncoder</label><div class=\"sk-toggleable__content\"><pre>OneHotEncoder(handle_unknown='ignore', sparse=False)</pre></div></div></div></div></div></div><div class=\"sk-parallel-item\"><div class=\"sk-item\"><div class=\"sk-label-container\"><div class=\"sk-label sk-toggleable\"><input class=\"sk-toggleable__control sk-hidden--visually\" id=\"692cb28c-e792-436b-9aea-b7c7586adda4\" type=\"checkbox\" ><label class=\"sk-toggleable__label\" for=\"692cb28c-e792-436b-9aea-b7c7586adda4\">standardscaler</label><div class=\"sk-toggleable__content\"><pre>['hours-per-week']</pre></div></div></div><div class=\"sk-serial\"><div class=\"sk-item\"><div class=\"sk-estimator sk-toggleable\"><input class=\"sk-toggleable__control sk-hidden--visually\" id=\"672d8757-29ab-4160-89eb-f128575348eb\" type=\"checkbox\" ><label class=\"sk-toggleable__label\" for=\"672d8757-29ab-4160-89eb-f128575348eb\">StandardScaler</label><div class=\"sk-toggleable__content\"><pre>StandardScaler()</pre></div></div></div></div></div></div></div></div><div class=\"sk-item\"><div class=\"sk-estimator sk-toggleable\"><input class=\"sk-toggleable__control sk-hidden--visually\" id=\"ea6d6b8d-bc01-48cb-b8e3-641eaad77b1c\" type=\"checkbox\" ><label class=\"sk-toggleable__label\" for=\"ea6d6b8d-bc01-48cb-b8e3-641eaad77b1c\">RandomForestClassifier</label><div class=\"sk-toggleable__content\"><pre>RandomForestClassifier(max_depth=10)</pre></div></div></div></div></div></div></div>"
      ],
      "text/plain": [
       "Pipeline(steps=[('columntransformer',\n",
       "                 ColumnTransformer(transformers=[('binage', BinAge(), ['age']),\n",
       "                                                 ('bincapital-1', BinCapital(),\n",
       "                                                  ['capital-gain']),\n",
       "                                                 ('bincapital-2', BinCapital(),\n",
       "                                                  ['capital-loss']),\n",
       "                                                 ('onehotencoder',\n",
       "                                                  OneHotEncoder(handle_unknown='ignore',\n",
       "                                                                sparse=False),\n",
       "                                                  <sklearn.compose._column_transformer.make_column_selector object at 0x7fdfad207bd0>),\n",
       "                                                 ('standardscaler',\n",
       "                                                  StandardScaler(),\n",
       "                                                  ['hours-per-week'])])),\n",
       "                ('randomforestclassifier',\n",
       "                 RandomForestClassifier(max_depth=10))])"
      ]
     },
     "execution_count": 31,
     "metadata": {},
     "output_type": "execute_result"
    }
   ],
   "source": [
    "from sklearn import set_config\n",
    "\n",
    "set_config(display=\"diagram\")\n",
    "model"
   ]
  },
  {
   "cell_type": "code",
   "execution_count": null,
   "metadata": {},
   "outputs": [],
   "source": [
    "#__SOLUTION__\n",
    "from sklearn import set_config\n",
    "\n",
    "set_config(display=\"diagram\")\n",
    "model"
   ]
  }
 ],
 "metadata": {
  "hide_input": false,
  "kernelspec": {
   "display_name": "mlearn",
   "language": "python",
   "name": "mlearn"
  },
  "language_info": {
   "codemirror_mode": {
    "name": "ipython",
    "version": 3
   },
   "file_extension": ".py",
   "mimetype": "text/x-python",
   "name": "python",
   "nbconvert_exporter": "python",
   "pygments_lexer": "ipython3",
   "version": "3.7.7"
  },
  "toc": {
   "base_numbering": 1,
   "nav_menu": {},
   "number_sections": false,
   "sideBar": true,
   "skip_h1_title": true,
   "title_cell": "Table of Contents",
   "title_sidebar": "Contents",
   "toc_cell": false,
   "toc_position": {},
   "toc_section_display": true,
   "toc_window_display": false
  },
  "varInspector": {
   "cols": {
    "lenName": 16,
    "lenType": 16,
    "lenVar": 40
   },
   "kernels_config": {
    "python": {
     "delete_cmd_postfix": "",
     "delete_cmd_prefix": "del ",
     "library": "var_list.py",
     "varRefreshCmd": "print(var_dic_list())"
    },
    "r": {
     "delete_cmd_postfix": ") ",
     "delete_cmd_prefix": "rm(",
     "library": "var_list.r",
     "varRefreshCmd": "cat(var_dic_list()) "
    }
   },
   "types_to_exclude": [
    "module",
    "function",
    "builtin_function_or_method",
    "instance",
    "_Feature"
   ],
   "window_display": false
  }
 },
 "nbformat": 4,
 "nbformat_minor": 4
}
