{
 "cells": [
  {
   "cell_type": "markdown",
   "metadata": {
    "index": 0,
    "solution": false
   },
   "source": [
    "# Creating a Custom Sklearn Pipeline\n",
    "> How to include custom data preprocessing steps in an sklearn pipeline. \n",
    "\n",
    "In this notebook we will import the [income classification dataset](https://www.kaggle.com/lodetomasi1995/income-classification/data), review common preprocessing steps, and then introduce how those steps can be included in an sklearn pipeline. \n",
    "\n",
    "![](https://media.giphy.com/media/Jwp4sxM0Rjk1W/giphy.gif)"
   ]
  },
  {
   "cell_type": "code",
   "execution_count": null,
   "metadata": {
    "ExecuteTime": {
     "end_time": "2021-11-17T04:15:56.267368Z",
     "start_time": "2021-11-17T04:15:56.251621Z"
    },
    "code_folding": [],
    "index": 1,
    "solution": false
   },
   "outputs": [],
   "source": [
    "# Standard Imports\n",
    "import pandas as pd\n",
    "import numpy as np\n",
    "\n",
    "# Transformers\n",
    "from sklearn.preprocessing import OneHotEncoder, StandardScaler\n",
    "\n",
    "# Modeling Evaluation\n",
    "from sklearn.model_selection import train_test_split, cross_val_score\n",
    "from sklearn.metrics import accuracy_score\n",
    "\n",
    "# Pipelines\n",
    "from sklearn.base import BaseEstimator, TransformerMixin\n",
    "from sklearn.compose import make_column_selector, make_column_transformer\n",
    "from sklearn.pipeline import make_pipeline\n",
    "import pickle\n",
    "\n",
    "# Machine Learning\n",
    "from sklearn.tree import DecisionTreeClassifier\n",
    "from sklearn.ensemble import RandomForestClassifier"
   ]
  },
  {
   "cell_type": "code",
   "execution_count": null,
   "metadata": {
    "ExecuteTime": {
     "end_time": "2021-11-17T04:15:57.715688Z",
     "start_time": "2021-11-17T04:15:57.631138Z"
    },
    "index": 3,
    "solution": false
   },
   "outputs": [],
   "source": [
    "df = pd.read_csv('data/train.csv')\n",
    "df.head()"
   ]
  },
  {
   "cell_type": "markdown",
   "metadata": {
    "index": 5,
    "solution": false
   },
   "source": [
    "## Develop a preprocessing strategy\n",
    "\n",
    "\n",
    "### Task 1\n",
    "\n",
    "Write a function called `bin_middle_age` that can be applied to the `age` column in `X_train` and returns a 1 if the age is 45-64 and a zero for every other age. \n",
    "\n",
    "### Task 2\n",
    "\n",
    "Write a function called `bin_capital` that can be applied to the `capital-gain` and `capital-loss` columns in `X_train` and returns a 1 if the input is more than zero and a 0 for anything else.\n",
    "\n",
    "### Task 3\n",
    "\n",
    "Please write code to fit a one hot encoder to all of the object datatypes. Transform the object columns in `X_train` and turn them into a dataframe. For this final step, I'll give you two clues: \"sparse\" and \"dense\". Only one of them will be needed.\n",
    "\n",
    "### Task 4\n",
    "\n",
    "Please write code to scale the `'hours-per-week'` column in `X_train'.\n",
    "\n",
    "### Task 5\n",
    "Merge the transformed features into a new dataframe called `modeling_df`."
   ]
  },
  {
   "cell_type": "code",
   "execution_count": null,
   "metadata": {
    "ExecuteTime": {
     "end_time": "2021-11-17T04:15:59.793946Z",
     "start_time": "2021-11-17T04:15:59.731497Z"
    },
    "index": 6,
    "solution": false
   },
   "outputs": [],
   "source": [
    "X_train, X_test, y_train, y_test = train_test_split(df.drop('income', axis = 1), \n",
    "                                                    df.income,\n",
    "                                                    random_state = 2020)\n",
    "X_train.reset_index(drop=True, inplace=True)\n",
    "\n",
    "# Task 1\n",
    "# ===========================================\n",
    "def bin_middle_age(age):\n",
    "    pass\n",
    "\n",
    "X_train['age'] = X_train.age.apply(bin_middle_age)\n",
    "# ===========================================\n",
    "\n",
    "# Task 2\n",
    "# ===========================================\n",
    "def bin_capital(x):\n",
    "    pass\n",
    "\n",
    "X_train['capital-gain'] = X_train['capital-gain'].apply(bin_capital)\n",
    "X_train['capital-loss'] = X_train['capital-loss'].apply(bin_capital)\n",
    "\n",
    " \n",
    "X_train.reset_index(drop=True, inplace=True)\n",
    "# ===========================================\n",
    "\n",
    "# Task 3\n",
    "# ===========================================\n",
    "hot_encoder = None\n",
    "categoricals = None\n",
    "# ===========================================\n",
    "\n",
    "# Task 4\n",
    "# ===========================================\n",
    "hours_scaler = None\n",
    "hours_per_week = None\n",
    "# ===========================================\n",
    "\n",
    "# Task 5\n",
    "# ===========================================\n",
    "modeling_df = None\n",
    "# ==========================================="
   ]
  },
  {
   "cell_type": "markdown",
   "metadata": {
    "index": 8,
    "solution": false
   },
   "source": [
    "# Move all of this into a Pipeline\n",
    "\n",
    "\n",
    "### Writing a custom transformer\n",
    "\n",
    "Above we used two sklearn transformers and two custom functions to format our dataframe. This means, that we will need to create two custom transformers. The sklearn transformers can be used as they are.\n",
    "\n",
    "To do this, we will create a class called `BinAge` that inherits from the sklearn classes, `TransformerMixin` and `BaseEstimator`. This class should have the following methods:\n",
    "\n",
    "1. `fit`\n",
    "    - This method should have three arguments\n",
    "        1. self\n",
    "        2. `X`.\n",
    "        3. `y=None`\n",
    "    - This method should return `self`.\n",
    "    \n",
    "1. `_bin_data`\n",
    "    - This method is our function for binning the age column\n",
    "    \n",
    "1. `transform`\n",
    "    - This method should have two arguments\n",
    "        1. self\n",
    "        2. `X`\n",
    "    - This method should apply the `_bin_data` method to `X`\n",
    "    - Return the binned data"
   ]
  },
  {
   "cell_type": "code",
   "execution_count": null,
   "metadata": {
    "ExecuteTime": {
     "end_time": "2021-11-17T04:17:51.536426Z",
     "start_time": "2021-11-17T04:17:51.522395Z"
    },
    "index": 9,
    "solution": false
   },
   "outputs": [],
   "source": [
    "from numpy import vectorize\n",
    "\n",
    "class BinAge():\n",
    "    \n",
    "    def fit(self, X, y=None):\n",
    "        pass\n",
    "    \n",
    "    @vectorize\n",
    "    def _bin_data(x):\n",
    "        return int(x >= 45 and x <= 64)\n",
    "    \n",
    "    def transform(self, X):\n",
    "        pass"
   ]
  },
  {
   "cell_type": "markdown",
   "metadata": {
    "index": 11,
    "solution": false
   },
   "source": [
    "**Now repeat the process for a `BinCapital` Transformer!**"
   ]
  },
  {
   "cell_type": "code",
   "execution_count": null,
   "metadata": {
    "ExecuteTime": {
     "end_time": "2021-11-17T04:17:54.076023Z",
     "start_time": "2021-11-17T04:17:54.072651Z"
    },
    "index": 12,
    "solution": false
   },
   "outputs": [],
   "source": [
    "class BinCapital():\n",
    "    pass"
   ]
  },
  {
   "cell_type": "markdown",
   "metadata": {
    "index": 14,
    "solution": false
   },
   "source": [
    "## Create pipeline\n",
    "\n",
    "To make this pipeline, we will use the following sklearn functions:\n",
    "\n",
    "1. `make_column_transformer`\n",
    "> This function receives \"Tuples of the form `(transformer, [columns])` specifying the transformer objects to be applied to subsets of the data.\"\n",
    "2. `make_column_selector`\n",
    "> \"Selects columns based on datatype or the columns name with a regex. When using multiple selection criteria, all criteria must match for a column to be selected.\"\n",
    "3. `make_pipeline`\n",
    "> Used to create a pipeline of inputer transformer and estimator objects."
   ]
  },
  {
   "cell_type": "code",
   "execution_count": null,
   "metadata": {
    "ExecuteTime": {
     "end_time": "2021-11-17T04:17:55.295647Z",
     "start_time": "2021-11-17T04:17:55.289557Z"
    },
    "index": 15,
    "solution": false
   },
   "outputs": [],
   "source": [
    "preprocessing = make_column_transformer((BinAge(), ['age']),\n",
    "                                      (BinCapital(), ['capital-gain']),\n",
    "                                      (BinCapital(), ['capital-loss']),\n",
    "                                      (OneHotEncoder(),\n",
    "                                       make_column_selector(dtype_include=object)),\n",
    "                                      (StandardScaler(), ['hours-per-week']),\n",
    "                                      remainder='drop')"
   ]
  },
  {
   "cell_type": "markdown",
   "metadata": {
    "index": 17,
    "solution": false
   },
   "source": [
    "Now all of our preprocessing can be done with the `fit_transform` method!"
   ]
  },
  {
   "cell_type": "code",
   "execution_count": null,
   "metadata": {
    "ExecuteTime": {
     "end_time": "2021-11-17T04:18:21.604501Z",
     "start_time": "2021-11-17T04:18:21.468416Z"
    },
    "index": 18,
    "solution": false
   },
   "outputs": [],
   "source": [
    "preprocessing.fit_transform(X_train)"
   ]
  },
  {
   "cell_type": "markdown",
   "metadata": {
    "index": 20,
    "solution": false
   },
   "source": [
    "To finish up pipeline, we can add a machine learning model to a new pipeline!"
   ]
  },
  {
   "cell_type": "code",
   "execution_count": null,
   "metadata": {
    "ExecuteTime": {
     "end_time": "2021-11-17T04:25:20.247664Z",
     "start_time": "2021-11-17T04:25:20.243952Z"
    },
    "index": 21,
    "solution": false
   },
   "outputs": [],
   "source": [
    "dt_pipeline = make_pipeline(preprocessing, DecisionTreeClassifier())\n",
    "rf_pipeline = make_pipeline(preprocessing, RandomForestClassifier(max_depth=10))"
   ]
  },
  {
   "cell_type": "markdown",
   "metadata": {
    "index": 23,
    "solution": false
   },
   "source": [
    "## Our pipelines are built!\n",
    "\n",
    "Now we can run them through cross validation!"
   ]
  },
  {
   "cell_type": "code",
   "execution_count": null,
   "metadata": {
    "ExecuteTime": {
     "end_time": "2021-11-17T04:18:27.798352Z",
     "start_time": "2021-11-17T04:18:26.180613Z"
    },
    "index": 24,
    "solution": false
   },
   "outputs": [],
   "source": [
    "cross_val_score(dt_pipeline, X_train, y_train)"
   ]
  },
  {
   "cell_type": "code",
   "execution_count": null,
   "metadata": {
    "ExecuteTime": {
     "end_time": "2021-11-17T04:18:36.798975Z",
     "start_time": "2021-11-17T04:18:29.925812Z"
    },
    "index": 26,
    "solution": false
   },
   "outputs": [],
   "source": [
    "cross_val_score(rf_pipeline, X_train, y_train)"
   ]
  },
  {
   "cell_type": "code",
   "execution_count": null,
   "metadata": {
    "ExecuteTime": {
     "end_time": "2021-11-17T04:19:00.280763Z",
     "start_time": "2021-11-17T04:18:58.103221Z"
    },
    "index": 28,
    "solution": false
   },
   "outputs": [],
   "source": [
    "rf_pipeline.fit(X_train, y_train)\n",
    "train_preds = rf_pipeline.predict(X_train)\n",
    "val_preds = rf_pipeline.predict(X_val)\n",
    "print(f'Training Accuracy: {accuracy_score(y_train, train_preds)}')\n",
    "print(f'Validation Accuracy: {accuracy_score(y_val, val_preds)}')"
   ]
  },
  {
   "cell_type": "markdown",
   "metadata": {
    "index": 30,
    "solution": false
   },
   "source": [
    "Finally, we can fit the final pipeline on all of the data and test it on an additional hold out set!"
   ]
  },
  {
   "cell_type": "code",
   "execution_count": null,
   "metadata": {
    "ExecuteTime": {
     "end_time": "2021-11-17T04:19:14.903308Z",
     "start_time": "2021-11-17T04:19:12.364886Z"
    },
    "index": 31,
    "solution": false
   },
   "outputs": [],
   "source": [
    "rf_pipeline.fit(df.drop('income', axis = 1), df.income)"
   ]
  },
  {
   "cell_type": "markdown",
   "metadata": {
    "index": 33,
    "solution": false
   },
   "source": [
    "Load in the hold out set and make predictions!"
   ]
  },
  {
   "cell_type": "code",
   "execution_count": null,
   "metadata": {
    "ExecuteTime": {
     "end_time": "2021-11-17T04:21:07.736570Z",
     "start_time": "2021-11-17T04:21:07.492289Z"
    },
    "index": 34,
    "solution": false
   },
   "outputs": [],
   "source": [
    "# Import holdout data\n",
    "test = pd.read_csv('data/test.csv')\n",
    "# Seperate features from the target\n",
    "X_test, y_test = test.drop(columns=['income']), test.income\n",
    "# Score the model\n",
    "rf_pipeline.score(X_test, y_test)"
   ]
  },
  {
   "cell_type": "markdown",
   "metadata": {
    "index": 36,
    "solution": false
   },
   "source": [
    "### Save the model to disk"
   ]
  },
  {
   "cell_type": "code",
   "execution_count": null,
   "metadata": {
    "ExecuteTime": {
     "end_time": "2021-11-17T04:25:30.145471Z",
     "start_time": "2021-11-17T04:25:26.882775Z"
    },
    "index": 37,
    "solution": false
   },
   "outputs": [],
   "source": [
    "# Merge training and hold out sets\n",
    "full_data = pd.concat([df, test])\n",
    "\n",
    "# Seperate the features from the target\n",
    "X, y = df.drop(columns=['income']), df.income\n",
    "\n",
    "# Fit the model to *all* observations\n",
    "rf_pipeline.fit(X, y)\n",
    "\n",
    "# Save the fit model to disk\n",
    "file = open('model_v1.pkl', 'wb')\n",
    "pickle.dump(rf_pipeline, file)\n",
    "file.close()"
   ]
  },
  {
   "cell_type": "markdown",
   "metadata": {
    "index": 39,
    "solution": false
   },
   "source": [
    "### Check the saved model works when loaded"
   ]
  },
  {
   "cell_type": "code",
   "execution_count": null,
   "metadata": {
    "ExecuteTime": {
     "end_time": "2021-11-17T04:29:37.922591Z",
     "start_time": "2021-11-17T04:29:37.378077Z"
    },
    "index": 40,
    "solution": false
   },
   "outputs": [],
   "source": [
    "# Load the model\n",
    "file = open('model_v1.pkl', 'rb')\n",
    "model = pickle.load(file)\n",
    "file.close()\n",
    "\n",
    "# Generate predictions\n",
    "model.predict(X)"
   ]
  }
 ],
 "metadata": {
  "hide_input": false,
  "kernelspec": {
   "display_name": "mlearn",
   "language": "python",
   "name": "mlearn"
  },
  "language_info": {
   "codemirror_mode": {
    "name": "ipython",
    "version": 3
   },
   "file_extension": ".py",
   "mimetype": "text/x-python",
   "name": "python",
   "nbconvert_exporter": "python",
   "pygments_lexer": "ipython3",
   "version": "3.7.7"
  },
  "toc": {
   "base_numbering": 1,
   "nav_menu": {},
   "number_sections": false,
   "sideBar": true,
   "skip_h1_title": true,
   "title_cell": "Table of Contents",
   "title_sidebar": "Contents",
   "toc_cell": false,
   "toc_position": {},
   "toc_section_display": true,
   "toc_window_display": false
  },
  "varInspector": {
   "cols": {
    "lenName": 16,
    "lenType": 16,
    "lenVar": 40
   },
   "kernels_config": {
    "python": {
     "delete_cmd_postfix": "",
     "delete_cmd_prefix": "del ",
     "library": "var_list.py",
     "varRefreshCmd": "print(var_dic_list())"
    },
    "r": {
     "delete_cmd_postfix": ") ",
     "delete_cmd_prefix": "rm(",
     "library": "var_list.r",
     "varRefreshCmd": "cat(var_dic_list()) "
    }
   },
   "types_to_exclude": [
    "module",
    "function",
    "builtin_function_or_method",
    "instance",
    "_Feature"
   ],
   "window_display": false
  }
 },
 "nbformat": 4,
 "nbformat_minor": 4
}
